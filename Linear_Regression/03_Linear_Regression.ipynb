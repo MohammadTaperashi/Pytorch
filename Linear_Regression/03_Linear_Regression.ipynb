{
  "nbformat": 4,
  "nbformat_minor": 0,
  "metadata": {
    "colab": {
      "provenance": []
    },
    "kernelspec": {
      "name": "python3",
      "display_name": "Python 3"
    },
    "language_info": {
      "name": "python"
    }
  },
  "cells": [
    {
      "cell_type": "markdown",
      "source": [
        "## **Linear Regression using Pytorch**"
      ],
      "metadata": {
        "id": "xwpmjbRpyhK8"
      }
    },
    {
      "cell_type": "markdown",
      "source": [
        "## **Import Libraries**"
      ],
      "metadata": {
        "id": "1iL5ALOU0cyQ"
      }
    },
    {
      "cell_type": "code",
      "source": [
        "import torch\n",
        "from torch import nn\n",
        "from torch import optim\n",
        "import numpy as np\n",
        "import matplotlib.pyplot as plt"
      ],
      "metadata": {
        "id": "NNtbFrjO0t56"
      },
      "execution_count": 61,
      "outputs": []
    },
    {
      "cell_type": "markdown",
      "source": [
        "## **Create Data**"
      ],
      "metadata": {
        "id": "4acjiBiw095R"
      }
    },
    {
      "cell_type": "code",
      "source": [
        "weight = 46\n",
        "bias = 2\n",
        "x = np.array([x for x in range(200)])\n",
        "X = x.reshape(-1,1)\n",
        "y = weight * X.flatten() + bias\n",
        "print(f'Input Shape: {X.shape} | Output Shape: {y.shape}')"
      ],
      "metadata": {
        "colab": {
          "base_uri": "https://localhost:8080/"
        },
        "id": "TYKOjkT31Ipv",
        "outputId": "4623e962-7b0f-45e9-d849-88994b4074c9"
      },
      "execution_count": 62,
      "outputs": [
        {
          "output_type": "stream",
          "name": "stdout",
          "text": [
            "Input Shape: (200, 1) | Output Shape: (200,)\n"
          ]
        }
      ]
    },
    {
      "cell_type": "markdown",
      "source": [
        "## **About Code**\n",
        "The input data (X) is reshaped to two dimensions to conform to the standard format expected by machine learning libraries and to clearly distinguish between samples and features.\n",
        "The output data (y) remains one-dimensional because it represents a single target value for each sample.\n",
        "\n",
        "`X = X.reshape(-1, 1).`\n",
        "- This line reshapes the X array\n",
        "\n",
        "- **reshape** is a NumPy function used to change the dimensions of an array.\n",
        "\n",
        "- `-1` is a special value that tells `NumPy` to automatically calculate the appropriate dimension to maintain the total number of elements.\n",
        "- `1` indicates that we want the second dimension to have a size of 1.\n",
        "- The effect is that X is transformed from a **1-dimensional** array to a **2-dimensional** array with 100 rows and 1 column. This is often necessary for machine learning algorithms that expect input data in this format.\n",
        "\n",
        "`y = 46 + 2 * X.flatten()`\n",
        "\n",
        "- `X.flatten()` converts the 2-dimensional **X** array back into a 1-dimensional array for the calculation.\n",
        "\n",
        "- The equation` 46 + 2 * X.flatten()` represents a simple linear relationship: `y = bias + weight * x`. It calculates the corresponding **y** value for each **x** value in the **X** array.\n"
      ],
      "metadata": {
        "id": "HLOs8WXj3vfM"
      }
    },
    {
      "cell_type": "markdown",
      "source": [
        "## **Normalization Data**\n",
        "\n",
        "**Question: Why do we norm data first in Pytorch deep learning?**\n",
        "\n",
        "Normalizing data before using it in PyTorch models is crucial for several reasons:\n",
        "\n",
        "1. **Improved Convergence**\n",
        "+ Gradient Descent Stability: Machine learning algorithms like gradient descent perform better when data is scaled. Normalization ensures that the features are on a similar scale, preventing large features from dominating the optimization process. This leads to faster convergence.\n",
        "\n",
        "+ Smaller Learning Rates: When data is normalized, gradients are more stable, allowing for effective use of smaller and consistent learning rates.\n",
        "\n",
        "2. **Numerical Stability**\n",
        "\n",
        "+ Avoid Overflow or Underflow: Features with very large or very small values can lead to numerical instability during computation, especially in deep networks. Normalization minimizes this risk.\n",
        "\n",
        "3. **Equal Feature Contribution**\n",
        "\n",
        "+ Balance Across Features: Normalization ensures that no single feature disproportionately influences the model, promoting balanced learning from all inputs.\n",
        "\n",
        "4. **Activation Function Efficiency**\n",
        "\n",
        "+ Optimal Function Range: Many activation functions, like Sigmoid or Tanh, perform optimally when inputs are centered around 0 and have a small variance. Normalized data ensures this condition, leading to better model performance.\n",
        "\n",
        "5. **Interpretability of Weights**\n",
        "+ Consistent Weight Scaling: In a normalized dataset, the learned weights are easier to interpret as they are not skewed by varying scales of the features.\n",
        "\n",
        "**Common Normalization Techniques in PyTorch**\n",
        "1. Min-Max Scaling: Scales data to a specific range, often [0, 1].\n",
        "\n",
        "2. Standardization: Centers data to have a mean of 0 and a standard deviation of 1.\n",
        "\n",
        "3. Normalization Layers: PyTorch provides layers like nn.BatchNorm for in-network normalization and transforms.Normalize for preprocessing.\n",
        "\n",
        "**Examples**\n",
        "\n",
        "**Min-Max Normalization formula**: (x - min) / (max - min)\n",
        "```\n",
        "data = torch.tensor([[2.0, 4.0], [6.0, 8.0]])\n",
        "data_min = torch.min(data, dim=0).values\n",
        "data_max = torch.max(data, dim=0).values\n",
        "normalized_data = (data - data_min) / (data_max - data_min)\n",
        "```\n",
        "**Z-Score Normalization formula**: (x - mean) / std\n",
        "```\n",
        "mean = torch.mean(data, dim=0)\n",
        "std = torch.std(data, dim=0)\n",
        "standardized_data = (data - mean) / std\n",
        "```\n",
        "**Batch-Normalization Layer**\n",
        "- (*Batch of 5 samples with 3 features each*)\n",
        "\n",
        "```\n",
        "batch_norm = nn.BatchNorm1d(num_features=3)\n",
        "features = torch.rand(5, 3)\n",
        "normalized_features = batch_norm(features)\n",
        "```\n",
        "\n",
        "\n",
        "\n",
        "\n",
        "\n"
      ],
      "metadata": {
        "id": "D6QlyrOo6GJ7"
      }
    },
    {
      "cell_type": "code",
      "source": [
        "# Standardized X\n",
        "x_mean, x_std = X.mean(), X.std()\n",
        "normalized_x = (X - x_mean) / x_std\n",
        "# Turn to tensor\n",
        "X_tensor = torch.tensor(normalized_x, dtype=torch.float32)\n",
        "\n",
        "# Standardized y\n",
        "y_mean, y_std = y.mean(), y.std()\n",
        "normalized_y = (y - y_mean) / y_std\n",
        "# Turn to tensor\n",
        "y_tensor = torch.tensor(normalized_y, dtype=torch.float32)\n",
        "\n",
        "print(f'The Normalized Input is: {X_tensor[0:5]} | and Its Shape is: {X_tensor.shape}')\n",
        "print(f'The Normalized Output is: {y_tensor[0:5]} | and Its Shape is: {y_tensor.shape}')"
      ],
      "metadata": {
        "colab": {
          "base_uri": "https://localhost:8080/"
        },
        "id": "eqmIhXNl6GuG",
        "outputId": "6c3555a6-abcc-4b5f-d9bd-11933079e9a9"
      },
      "execution_count": 63,
      "outputs": [
        {
          "output_type": "stream",
          "name": "stdout",
          "text": [
            "The Normalized Input is: tensor([[-1.7234],\n",
            "        [-1.7061],\n",
            "        [-1.6888],\n",
            "        [-1.6714],\n",
            "        [-1.6541]]) | and Its Shape is: torch.Size([200, 1])\n",
            "The Normalized Output is: tensor([-1.7234, -1.7061, -1.6888, -1.6714, -1.6541]) | and Its Shape is: torch.Size([200])\n"
          ]
        }
      ]
    },
    {
      "cell_type": "markdown",
      "source": [
        "## **Split Data**"
      ],
      "metadata": {
        "id": "0lrc39cJ1jfg"
      }
    },
    {
      "cell_type": "code",
      "source": [
        "train_split = int(0.8*len(X))\n",
        "X_train, y_train = X_tensor[:train_split], y_tensor[:train_split]\n",
        "X_test, y_test = X_tensor[train_split:], y_tensor[train_split:]\n",
        "print(f'The number of train samples: {len(X_train)}')\n",
        "print(f'The number of test samples: {len(X_test)}')"
      ],
      "metadata": {
        "colab": {
          "base_uri": "https://localhost:8080/"
        },
        "id": "ObNJmJyE45dp",
        "outputId": "7baa6fa7-98d3-4019-fce9-d0f75c6bd28b"
      },
      "execution_count": 64,
      "outputs": [
        {
          "output_type": "stream",
          "name": "stdout",
          "text": [
            "The number of train samples: 160\n",
            "The number of test samples: 40\n"
          ]
        }
      ]
    },
    {
      "cell_type": "code",
      "source": [
        "def plot_predictions(train_data=X_train,\n",
        "                     train_labels=y_train,\n",
        "                     test_data=X_test,\n",
        "                     test_labels=y_test,\n",
        "                     predictions = None):\n",
        "    plt.figure(figsize=(4,2.5), dpi=170, facecolor='#cae6e4')\n",
        "    label_font= {'color':'k',\n",
        "                'weight':'bold',\n",
        "                'size':8}\n",
        "    title_font = {'color':'k',\n",
        "                  'weight':'bold',\n",
        "                  'size':10}\n",
        "    plt.title('Pre-Visualizing  Normalized-Data', fontdict=title_font)\n",
        "    plt.xlabel('Inputs', fontdict=label_font)\n",
        "    plt.ylabel('Outputs', fontdict=label_font)\n",
        "\n",
        "    plt.scatter(X_train, y_train, c='b', s=4, label='Training Samples')\n",
        "    plt.scatter(X_test, y_test, c='r', s=4, label='Test samples')\n",
        "    if predictions is not None:\n",
        "      plt.scatter(X_test, predictions, c='g', s=4, label='predictions')\n",
        "\n",
        "    plt.legend()\n",
        "    plt.show()"
      ],
      "metadata": {
        "id": "KoCC_Rke5tQH"
      },
      "execution_count": 65,
      "outputs": []
    },
    {
      "cell_type": "code",
      "source": [
        "plot_predictions()"
      ],
      "metadata": {
        "colab": {
          "base_uri": "https://localhost:8080/",
          "height": 472
        },
        "id": "5IB_edasJDt_",
        "outputId": "ce255d1b-406e-4ac4-f1d6-eb8b6ae5047b"
      },
      "execution_count": 66,
      "outputs": [
        {
          "output_type": "display_data",
          "data": {
            "text/plain": [
              "<Figure size 680x425 with 1 Axes>"
            ],
            "image/png": "[encoded data removed]"
          },
          "metadata": {}
        }
      ]
    },
    {
      "cell_type": "markdown",
      "source": [
        "## **Build Model**"
      ],
      "metadata": {
        "id": "CkojhkabJf5B"
      }
    },
    {
      "cell_type": "code",
      "source": [
        "class LinearRegressionModel(nn.Module):\n",
        "  def __init__(self, in_features, out_features):\n",
        "    super().__init__()\n",
        "    self.linear = nn.Linear(in_features, out_features)\n",
        "\n",
        "  def forward(self, x):\n",
        "    return self.linear(x)"
      ],
      "metadata": {
        "id": "ekbxlS-sKJW_"
      },
      "execution_count": 67,
      "outputs": []
    },
    {
      "cell_type": "code",
      "source": [
        "in_features = 1\n",
        "out_features = 1\n",
        "model_100 = LinearRegressionModel(in_features, out_features)"
      ],
      "metadata": {
        "id": "YHQO2qm8K3pb"
      },
      "execution_count": 68,
      "outputs": []
    },
    {
      "cell_type": "markdown",
      "source": [
        "## **Choose Criterion and Optimizer**"
      ],
      "metadata": {
        "id": "DHhWMxrdLN7u"
      }
    },
    {
      "cell_type": "code",
      "source": [
        "criterion = nn.MSELoss()\n",
        "optimizer = optim.SGD(model_100.parameters(),\n",
        "                      lr = 0.1)"
      ],
      "metadata": {
        "id": "swcQ-gZcLdDb"
      },
      "execution_count": 69,
      "outputs": []
    },
    {
      "cell_type": "markdown",
      "source": [
        "## **Train/Test Loops**"
      ],
      "metadata": {
        "id": "idko_oUQMZdV"
      }
    },
    {
      "cell_type": "code",
      "source": [
        "epochs = 35\n",
        "epoch_count = []\n",
        "train_loss_values = []\n",
        "test_loss_values = []\n",
        "for epoch in range(epochs):\n",
        "\n",
        "  #Train\n",
        "  model_100.train()\n",
        "  #Forward Pass\n",
        "  train_preds = model_100(X_train)\n",
        "  #Calculate Loss\n",
        "  train_loss = criterion(train_preds.squeeze(1), y_train)\n",
        "  #Zero Gradient\n",
        "  optimizer.zero_grad()\n",
        "  #Backward\n",
        "  train_loss.backward()\n",
        "  #Optimizing step by step\n",
        "  optimizer.step()\n",
        "\n",
        "  #Test\n",
        "  model_100.eval()\n",
        "  #Forward\n",
        "  with torch.inference_mode():\n",
        "    test_preds = model_100(X_test)\n",
        "  #Calculate Loss\n",
        "  test_loss = criterion(test_preds.squeeze(1), y_test)\n",
        "\n",
        "  epoch_count.append(epoch)\n",
        "  train_loss_values.append(train_loss)\n",
        "  test_loss_values.append(test_loss)\n",
        "\n",
        "  print(f'Epoch: {epoch +1 }/{epochs} | Train Loss Value: {train_loss} | Test Loss Value: {test_loss}')\n",
        "\n"
      ],
      "metadata": {
        "colab": {
          "base_uri": "https://localhost:8080/"
        },
        "id": "W8E8A5zYMfRM",
        "outputId": "3fdf624d-2351-48f9-9681-4c27f60d692a"
      },
      "execution_count": 70,
      "outputs": [
        {
          "output_type": "stream",
          "name": "stdout",
          "text": [
            "Epoch: 1/35 | Train Loss Value: 1.5775377750396729 | Test Loss Value: 2.385608196258545\n",
            "Epoch: 2/35 | Train Loss Value: 1.0133881568908691 | Test Loss Value: 1.9192886352539062\n",
            "Epoch: 3/35 | Train Loss Value: 0.6712417602539062 | Test Loss Value: 1.5445010662078857\n",
            "Epoch: 4/35 | Train Loss Value: 0.4589200019836426 | Test Loss Value: 1.2431139945983887\n",
            "Epoch: 5/35 | Train Loss Value: 0.3235587775707245 | Test Loss Value: 1.0006587505340576\n",
            "Epoch: 6/35 | Train Loss Value: 0.23462741076946259 | Test Loss Value: 0.8055599331855774\n",
            "Epoch: 7/35 | Train Loss Value: 0.17432507872581482 | Test Loss Value: 0.6485379934310913\n",
            "Epoch: 8/35 | Train Loss Value: 0.13214047253131866 | Test Loss Value: 0.5221446752548218\n",
            "Epoch: 9/35 | Train Loss Value: 0.1017635241150856 | Test Loss Value: 0.4203963279724121\n",
            "Epoch: 10/35 | Train Loss Value: 0.07932721078395844 | Test Loss Value: 0.338482141494751\n",
            "Epoch: 11/35 | Train Loss Value: 0.0624016635119915 | Test Loss Value: 0.2725328207015991\n",
            "Epoch: 12/35 | Train Loss Value: 0.04941577464342117 | Test Loss Value: 0.2194351702928543\n",
            "Epoch: 13/35 | Train Loss Value: 0.039321668446063995 | Test Loss Value: 0.1766836941242218\n",
            "Epoch: 14/35 | Train Loss Value: 0.03139800205826759 | Test Loss Value: 0.14226208627223969\n",
            "Epoch: 15/35 | Train Loss Value: 0.025132903829216957 | Test Loss Value: 0.11454685777425766\n",
            "Epoch: 16/35 | Train Loss Value: 0.020153099671006203 | Test Loss Value: 0.09223126620054245\n",
            "Epoch: 17/35 | Train Loss Value: 0.01617991179227829 | Test Loss Value: 0.07426328212022781\n",
            "Epoch: 18/35 | Train Loss Value: 0.013001315295696259 | Test Loss Value: 0.05979575961828232\n",
            "Epoch: 19/35 | Train Loss Value: 0.010453545488417149 | Test Loss Value: 0.04814673587679863\n",
            "Epoch: 20/35 | Train Loss Value: 0.008408637717366219 | Test Loss Value: 0.03876713663339615\n",
            "Epoch: 21/35 | Train Loss Value: 0.006765780039131641 | Test Loss Value: 0.031214822083711624\n",
            "Epoch: 22/35 | Train Loss Value: 0.0054450491443276405 | Test Loss Value: 0.0251337680965662\n",
            "Epoch: 23/35 | Train Loss Value: 0.004382780287414789 | Test Loss Value: 0.02023741789162159\n",
            "Epoch: 24/35 | Train Loss Value: 0.003528113942593336 | Test Loss Value: 0.016294915229082108\n",
            "Epoch: 25/35 | Train Loss Value: 0.002840315457433462 | Test Loss Value: 0.013120478019118309\n",
            "Epoch: 26/35 | Train Loss Value: 0.0022867193911224604 | Test Loss Value: 0.010564452037215233\n",
            "Epoch: 27/35 | Train Loss Value: 0.0018410871271044016 | Test Loss Value: 0.008506354875862598\n",
            "Epoch: 28/35 | Train Loss Value: 0.001482335734181106 | Test Loss Value: 0.006849213503301144\n",
            "Epoch: 29/35 | Train Loss Value: 0.0011935107177123427 | Test Loss Value: 0.005514913238584995\n",
            "Epoch: 30/35 | Train Loss Value: 0.000960973440669477 | Test Loss Value: 0.004440550692379475\n",
            "Epoch: 31/35 | Train Loss Value: 0.0007737500709481537 | Test Loss Value: 0.0035754810087382793\n",
            "Epoch: 32/35 | Train Loss Value: 0.000623005791567266 | Test Loss Value: 0.002878934843465686\n",
            "Epoch: 33/35 | Train Loss Value: 0.0005016316426917911 | Test Loss Value: 0.00231807678937912\n",
            "Epoch: 34/35 | Train Loss Value: 0.0004039056657347828 | Test Loss Value: 0.0018664973322302103\n",
            "Epoch: 35/35 | Train Loss Value: 0.0003252181049901992 | Test Loss Value: 0.0015028805937618017\n"
          ]
        }
      ]
    },
    {
      "cell_type": "markdown",
      "source": [
        "## **Visualize**"
      ],
      "metadata": {
        "id": "coP47QJUPl7M"
      }
    },
    {
      "cell_type": "code",
      "source": [
        "for x in range(len(test_loss_values)):\n",
        "  test_loss_values[x] = test_loss_values[x].detach().numpy()\n",
        "for x in range(len(train_loss_values)):\n",
        "  train_loss_values[x] = train_loss_values[x].detach().numpy()\n"
      ],
      "metadata": {
        "id": "l-DbvAbhUoFl"
      },
      "execution_count": 71,
      "outputs": []
    },
    {
      "cell_type": "code",
      "source": [
        "plot_predictions(predictions= test_preds)"
      ],
      "metadata": {
        "colab": {
          "base_uri": "https://localhost:8080/",
          "height": 472
        },
        "id": "iWnELaY2UtcF",
        "outputId": "ab971acf-7c4d-4295-93c9-b6e783bfb45a"
      },
      "execution_count": 72,
      "outputs": [
        {
          "output_type": "display_data",
          "data": {
            "text/plain": [
              "<Figure size 680x425 with 1 Axes>"
            ],
            "image/png": "[encoded data removed]"
          },
          "metadata": {}
        }
      ]
    },
    {
      "cell_type": "code",
      "source": [
        "plt.plot(epoch_count, train_loss_values, color='b', label='Training Loss', linewidth=3)\n",
        "plt.plot(epoch_count, test_loss_values, color='g', label='Test Loss', linewidth=3)\n",
        "plt.legend()\n",
        "plt.show()"
      ],
      "metadata": {
        "colab": {
          "base_uri": "https://localhost:8080/",
          "height": 435
        },
        "id": "10BRqYvkyzca",
        "outputId": "f8a56e1f-9bd6-4106-c22d-a8c7782c5486"
      },
      "execution_count": 73,
      "outputs": [
        {
          "output_type": "display_data",
          "data": {
            "text/plain": [
              "<Figure size 640x480 with 1 Axes>"
            ],
            "image/png": "[encoded data removed]"
          },
          "metadata": {}
        }
      ]
    },
    {
      "cell_type": "markdown",
      "source": [
        "## **Learned Weight and Bias**"
      ],
      "metadata": {
        "id": "c6io8-GpYDEe"
      }
    },
    {
      "cell_type": "code",
      "source": [
        "print(model_100.state_dict().keys())"
      ],
      "metadata": {
        "colab": {
          "base_uri": "https://localhost:8080/"
        },
        "id": "J0nCQC6cU_9U",
        "outputId": "1ba9dedf-2d0d-4ccd-d820-4f9effafe351"
      },
      "execution_count": 74,
      "outputs": [
        {
          "output_type": "stream",
          "name": "stdout",
          "text": [
            "odict_keys(['linear.weight', 'linear.bias'])\n"
          ]
        }
      ]
    },
    {
      "cell_type": "code",
      "source": [
        "weight_value = model_100.state_dict()['linear.weight'].item()\n",
        "bias_value = model_100.state_dict()['linear.bias'].item()\n",
        "weight_value, bias_value"
      ],
      "metadata": {
        "colab": {
          "base_uri": "https://localhost:8080/"
        },
        "id": "YclDaJoQWrMM",
        "outputId": "983a854f-7893-438a-8b57-3af7c848d7b2"
      },
      "execution_count": 75,
      "outputs": [
        {
          "output_type": "execute_result",
          "data": {
            "text/plain": [
              "(0.9815778732299805, -0.013064878061413765)"
            ]
          },
          "metadata": {},
          "execution_count": 75
        }
      ]
    },
    {
      "cell_type": "markdown",
      "source": [
        "## **Make a prediction**"
      ],
      "metadata": {
        "id": "l8UZ1Gh1X85w"
      }
    },
    {
      "cell_type": "code",
      "source": [
        "new_x = 254\n",
        "normalized_new_x = (new_x - x_mean) / x_std\n",
        "new_x_tensor = torch.tensor([normalized_new_x], dtype = torch.float32)\n",
        "new_x_tensor\n",
        "model_100.eval()\n",
        "with torch.inference_mode():\n",
        "  new_pred = model_100(new_x_tensor)\n",
        "denormalized_new_pred = new_pred.item() * y_std + y_mean\n",
        "denormalized_new_pred"
      ],
      "metadata": {
        "colab": {
          "base_uri": "https://localhost:8080/"
        },
        "id": "c5Rb3dcHYiYn",
        "outputId": "7842fe0f-8563-44d5-c2d0-8a88104ce314"
      },
      "execution_count": 76,
      "outputs": [
        {
          "output_type": "execute_result",
          "data": {
            "text/plain": [
              "11520.376440302784"
            ]
          },
          "metadata": {},
          "execution_count": 76
        }
      ]
    },
    {
      "cell_type": "code",
      "source": [
        "new_test_loss = (((254*weight+bias)-denormalized_new_pred) / (256*weight+bias)) * 100\n",
        "print(f' The real value: {254*weight+bias}')\n",
        "print(f' The predicted value: {denormalized_new_pred}')\n",
        "print(f' The loss value: %{new_test_loss}')"
      ],
      "metadata": {
        "colab": {
          "base_uri": "https://localhost:8080/"
        },
        "id": "26C0JOwBZm52",
        "outputId": "e676e2a1-36d7-426b-d933-4a0813d83332"
      },
      "execution_count": 77,
      "outputs": [
        {
          "output_type": "stream",
          "name": "stdout",
          "text": [
            " The real value: 11686\n",
            " The predicted value: 11520.376440302784\n",
            " The loss value: %1.406211238726579\n"
          ]
        }
      ]
    },
    {
      "cell_type": "markdown",
      "source": [
        "## **Save Model**"
      ],
      "metadata": {
        "id": "Znb9FxFfb4LN"
      }
    },
    {
      "cell_type": "code",
      "source": [
        "from pathlib import Path\n",
        "# Path\n",
        "model_path = Path('Models')\n",
        "model_path.mkdir(exist_ok=True, parents=True)\n",
        "# name\n",
        "model_name = '03-Linear-Regression'\n",
        "# model_save_path\n",
        "model_save_path= model_path / model_name\n",
        "torch.save(obj = model_100.state_dict(),\n",
        "           f = model_save_path)"
      ],
      "metadata": {
        "id": "x16O3ySVs7th"
      },
      "execution_count": 78,
      "outputs": []
    },
    {
      "cell_type": "markdown",
      "source": [
        "## **Load Model**"
      ],
      "metadata": {
        "id": "AXlAcMdnu50Q"
      }
    },
    {
      "cell_type": "code",
      "source": [
        "loaded_model_100 = LinearRegressionModel(in_features, out_features)\n",
        "loaded_model_100.load_state_dict(torch.load(f=model_save_path))"
      ],
      "metadata": {
        "colab": {
          "base_uri": "https://localhost:8080/"
        },
        "id": "eFZeA5b8vwdU",
        "outputId": "71d6442c-71a7-46f8-9282-ab0e96a58da9"
      },
      "execution_count": 79,
      "outputs": [
        {
          "output_type": "stream",
          "name": "stderr",
          "text": [
            "<ipython-input-79-8ef408ef51fc>:2: FutureWarning: You are using `torch.load` with `weights_only=False` (the current default value), which uses the default pickle module implicitly. It is possible to construct malicious pickle data which will execute arbitrary code during unpickling (See https://github.com/pytorch/pytorch/blob/main/SECURITY.md#untrusted-models for more details). In a future release, the default value for `weights_only` will be flipped to `True`. This limits the functions that could be executed during unpickling. Arbitrary objects will no longer be allowed to be loaded via this mode unless they are explicitly allowlisted by the user via `torch.serialization.add_safe_globals`. We recommend you start setting `weights_only=True` for any use case where you don't have full control of the loaded file. Please open an issue on GitHub for any issues related to this experimental feature.\n",
            "  loaded_model_100.load_state_dict(torch.load(f=model_save_path))\n"
          ]
        },
        {
          "output_type": "execute_result",
          "data": {
            "text/plain": [
              "<All keys matched successfully>"
            ]
          },
          "metadata": {},
          "execution_count": 79
        }
      ]
    },
    {
      "cell_type": "code",
      "source": [
        "print(f'The parameters of loaded model:')\n",
        "for name, parameter in model_100.named_parameters():\n",
        "  print(f'name: {name} : {parameter.data}')\n"
      ],
      "metadata": {
        "colab": {
          "base_uri": "https://localhost:8080/"
        },
        "id": "-nIFXdGdwdii",
        "outputId": "39682849-7619-4090-d174-f66e7f8cf33a"
      },
      "execution_count": 80,
      "outputs": [
        {
          "output_type": "stream",
          "name": "stdout",
          "text": [
            "The parameters of loaded model:\n",
            "name: linear.weight : tensor([[0.9816]])\n",
            "name: linear.bias : tensor([-0.0131])\n"
          ]
        }
      ]
    },
    {
      "cell_type": "code",
      "source": [
        "with torch.inference_mode():\n",
        "  new_predicts = loaded_model_100(X_test)\n",
        "new_predicts_loss = criterion(new_predicts, X_test)\n",
        "new_predicts == test_preds"
      ],
      "metadata": {
        "colab": {
          "base_uri": "https://localhost:8080/"
        },
        "id": "SRPwYKnjx3a-",
        "outputId": "2f35dcc6-7ce4-4643-8e8c-04fe498fb470"
      },
      "execution_count": 81,
      "outputs": [
        {
          "output_type": "execute_result",
          "data": {
            "text/plain": [
              "tensor([[True],\n",
              "        [True],\n",
              "        [True],\n",
              "        [True],\n",
              "        [True],\n",
              "        [True],\n",
              "        [True],\n",
              "        [True],\n",
              "        [True],\n",
              "        [True],\n",
              "        [True],\n",
              "        [True],\n",
              "        [True],\n",
              "        [True],\n",
              "        [True],\n",
              "        [True],\n",
              "        [True],\n",
              "        [True],\n",
              "        [True],\n",
              "        [True],\n",
              "        [True],\n",
              "        [True],\n",
              "        [True],\n",
              "        [True],\n",
              "        [True],\n",
              "        [True],\n",
              "        [True],\n",
              "        [True],\n",
              "        [True],\n",
              "        [True],\n",
              "        [True],\n",
              "        [True],\n",
              "        [True],\n",
              "        [True],\n",
              "        [True],\n",
              "        [True],\n",
              "        [True],\n",
              "        [True],\n",
              "        [True],\n",
              "        [True]])"
            ]
          },
          "metadata": {},
          "execution_count": 81
        }
      ]
    }
  ]
}